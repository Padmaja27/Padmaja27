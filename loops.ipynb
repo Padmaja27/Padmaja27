{
  "nbformat": 4,
  "nbformat_minor": 0,
  "metadata": {
    "colab": {
      "name": "loops.ipynb",
      "provenance": [],
      "collapsed_sections": [],
      "authorship_tag": "ABX9TyMWVorSL8dmlkNvWqk+gYt1",
      "include_colab_link": true
    },
    "kernelspec": {
      "name": "python3",
      "display_name": "Python 3"
    }
  },
  "cells": [
    {
      "cell_type": "markdown",
      "metadata": {
        "id": "view-in-github",
        "colab_type": "text"
      },
      "source": [
        "<a href=\"https://colab.research.google.com/github/Padmaja27/Padmaja27/blob/main/loops.ipynb\" target=\"_parent\"><img src=\"https://colab.research.google.com/assets/colab-badge.svg\" alt=\"Open In Colab\"/></a>"
      ]
    },
    {
      "cell_type": "markdown",
      "metadata": {
        "id": "Yz9gGWj5tqrG"
      },
      "source": [
        "Loops and iterations"
      ]
    },
    {
      "cell_type": "code",
      "metadata": {
        "id": "51txlOE1tHDp",
        "colab": {
          "base_uri": "https://localhost:8080/"
        },
        "outputId": "50055c3d-8113-46fb-dd43-6609ba965d50"
      },
      "source": [
        "count = 0\r\n",
        "while(count <=5):\r\n",
        "  count = count+1\r\n",
        "  print(\"It is while loopssssss\")"
      ],
      "execution_count": null,
      "outputs": [
        {
          "output_type": "stream",
          "text": [
            "It is while loopssssss\n",
            "It is while loopssssss\n",
            "It is while loopssssss\n",
            "It is while loopssssss\n",
            "It is while loopssssss\n",
            "It is while loopssssss\n"
          ],
          "name": "stdout"
        }
      ]
    },
    {
      "cell_type": "code",
      "metadata": {
        "id": "v--nXiBLzvPn"
      },
      "source": [
        "using BREAK statement"
      ],
      "execution_count": null,
      "outputs": []
    },
    {
      "cell_type": "code",
      "metadata": {
        "colab": {
          "base_uri": "https://localhost:8080/"
        },
        "id": "COi80n-4yG6H",
        "outputId": "0ada37a3-f06d-44ac-a1f6-294cf0930608"
      },
      "source": [
        "while True :\r\n",
        "  hn = input(\"enter a word \")\r\n",
        "  if hn==\"done\":\r\n",
        "    break\r\n",
        "  print(hn)\r\n",
        "print(\"done\")"
      ],
      "execution_count": null,
      "outputs": [
        {
          "output_type": "stream",
          "text": [
            "enter a word simple\n",
            "simple\n",
            "enter a word hello\n",
            "hello\n",
            "enter a word since\n",
            "since\n",
            "enter a word done\n",
            "done\n"
          ],
          "name": "stdout"
        }
      ]
    },
    {
      "cell_type": "markdown",
      "metadata": {
        "id": "P5Gijl54tpTp"
      },
      "source": [
        "Using continue statment"
      ]
    },
    {
      "cell_type": "code",
      "metadata": {
        "colab": {
          "base_uri": "https://localhost:8080/"
        },
        "id": "ensBIc5qz4hE",
        "outputId": "ea2611c1-8d3b-4a8f-bfa2-d0ac5fc7bb30"
      },
      "source": [
        "while True :\r\n",
        "  hn = input(\"enter a word \")\r\n",
        "  if hn[0]=='#':\r\n",
        "    continue\r\n",
        "  if hn==\"done\":\r\n",
        "    break\r\n",
        "  print(hn)\r\n",
        "print(\"done\")"
      ],
      "execution_count": null,
      "outputs": [
        {
          "output_type": "stream",
          "text": [
            "enter a word #\n",
            "enter a word # nothing is to done\n",
            "enter a word hello\n",
            "hello\n",
            "enter a word stupid\n",
            "stupid\n",
            "enter a word done\n",
            "done\n"
          ],
          "name": "stdout"
        }
      ]
    },
    {
      "cell_type": "markdown",
      "metadata": {
        "id": "0GxFijAv10Oq"
      },
      "source": [
        "THE most important FOR loop\r\n",
        "it takes and data type in for loop"
      ]
    },
    {
      "cell_type": "code",
      "metadata": {
        "colab": {
          "base_uri": "https://localhost:8080/"
        },
        "id": "tNk4xgIJ2DKK",
        "outputId": "f4065c6b-6a8b-4e8b-88cf-c6177a2e7bc0"
      },
      "source": [
        "for i in [5,5,3,2,1]:\r\n",
        "  print(i)\r\n",
        "print (\"loop ends\")"
      ],
      "execution_count": null,
      "outputs": [
        {
          "output_type": "stream",
          "text": [
            "5\n",
            "5\n",
            "3\n",
            "2\n",
            "1\n",
            "loop ends\n"
          ],
          "name": "stdout"
        }
      ]
    },
    {
      "cell_type": "code",
      "metadata": {
        "colab": {
          "base_uri": "https://localhost:8080/"
        },
        "id": "tVSYt2iZ2ZJk",
        "outputId": "4cffd5d3-9fc6-4d8a-efd4-4397d2c6433d"
      },
      "source": [
        "print(\"List iteration starts\")\r\n",
        "l=[\"introduction\",\"to\", \"python\"]\r\n",
        "for i in l:\r\n",
        "  print(i)\r\n",
        "print(\"loop ends\")"
      ],
      "execution_count": null,
      "outputs": [
        {
          "output_type": "stream",
          "text": [
            "List iteration starts\n",
            "introduction\n",
            "to\n",
            "python\n",
            "loop ends\n"
          ],
          "name": "stdout"
        }
      ]
    },
    {
      "cell_type": "code",
      "metadata": {
        "colab": {
          "base_uri": "https://localhost:8080/"
        },
        "id": "CZVGNu1bgE0t",
        "outputId": "15dea185-c1ea-4dc3-c436-4f30ca2c9718"
      },
      "source": [
        "i = [2,3,4,6,8,89]\r\n",
        "print(i)\r\n",
        "print(len(i))"
      ],
      "execution_count": null,
      "outputs": [
        {
          "output_type": "stream",
          "text": [
            "[2, 3, 4, 6, 8, 89]\n",
            "6\n"
          ],
          "name": "stdout"
        }
      ]
    },
    {
      "cell_type": "code",
      "metadata": {
        "colab": {
          "base_uri": "https://localhost:8080/"
        },
        "id": "C_hjL7H8hvSP",
        "outputId": "4b17f64a-02f8-4c0e-8027-8e19cc5c2471"
      },
      "source": [
        "# to find largest number in list\r\n",
        "l=-1\r\n",
        "for i in [23,21,12,3,65,99,32]:\r\n",
        " if i>l:  \r\n",
        "   l=i\r\n",
        "print(\"large number\",l)"
      ],
      "execution_count": null,
      "outputs": [
        {
          "output_type": "stream",
          "text": [
            "large number 99\n"
          ],
          "name": "stdout"
        }
      ]
    },
    {
      "cell_type": "code",
      "metadata": {
        "colab": {
          "base_uri": "https://localhost:8080/"
        },
        "id": "t1g5lXB1iYl0",
        "outputId": "e5e5ac59-0eaf-48f9-fbf2-3215ce131726"
      },
      "source": [
        "#to know the count of the list\r\n",
        "count = 0\r\n",
        "for i in [2,45,'ght',67,'mji']:\r\n",
        "  count = count+1\r\n",
        "print(\"length\",count)"
      ],
      "execution_count": null,
      "outputs": [
        {
          "output_type": "stream",
          "text": [
            "length 5\n"
          ],
          "name": "stdout"
        }
      ]
    },
    {
      "cell_type": "markdown",
      "metadata": {
        "id": "v_eMMPpEkfUx"
      },
      "source": [
        "Average of the list \r\n",
        "sum of the list % total lenth \r\n",
        " "
      ]
    },
    {
      "cell_type": "code",
      "metadata": {
        "colab": {
          "base_uri": "https://localhost:8080/"
        },
        "id": "gmd7ZmHAke8u",
        "outputId": "8fb2c451-aabc-4270-bb54-6d74fc838088"
      },
      "source": [
        "#sum of the list \r\n",
        "count = 0\r\n",
        "for i in [2,45,48,67]:\r\n",
        "  count = count+ i\r\n",
        "print(\"length\",count)"
      ],
      "execution_count": null,
      "outputs": [
        {
          "output_type": "stream",
          "text": [
            "length 162\n"
          ],
          "name": "stdout"
        }
      ]
    },
    {
      "cell_type": "code",
      "metadata": {
        "colab": {
          "base_uri": "https://localhost:8080/"
        },
        "id": "U1K8-tASlf-w",
        "outputId": "827405af-6e30-4aeb-bf5e-943aaa73e0c8"
      },
      "source": [
        "count=0\r\n",
        "l = 0\r\n",
        "for i in [2,45,48,67]:\r\n",
        "  count = count+i\r\n",
        "  l=l+1\r\n",
        "average= count/l\r\n",
        "print('sum of the list',count)\r\n",
        "print('lenth of the list',l)\r\n",
        "print(\"average\",average)"
      ],
      "execution_count": null,
      "outputs": [
        {
          "output_type": "stream",
          "text": [
            "sum of the list 162\n",
            "lenth of the list 4\n",
            "average 40.5\n"
          ],
          "name": "stdout"
        }
      ]
    },
    {
      "cell_type": "code",
      "metadata": {
        "colab": {
          "base_uri": "https://localhost:8080/"
        },
        "id": "HQaplErmo0Gv",
        "outputId": "60d826b7-2912-472d-e5f1-5522b6fb79e5"
      },
      "source": [
        "#print the list with condition\r\n",
        "for i in [9,23,45,64,2,78,16]:\r\n",
        "  if i>10:\r\n",
        "    print(\" > 20 \",i)"
      ],
      "execution_count": null,
      "outputs": [
        {
          "output_type": "stream",
          "text": [
            " > 20  23\n",
            " > 20  45\n",
            " > 20  64\n",
            " > 20  78\n",
            " > 20  16\n"
          ],
          "name": "stdout"
        }
      ]
    },
    {
      "cell_type": "markdown",
      "metadata": {
        "id": "UKyiVnfppz2-"
      },
      "source": [
        "Searching the number in list using for loop"
      ]
    },
    {
      "cell_type": "code",
      "metadata": {
        "colab": {
          "base_uri": "https://localhost:8080/"
        },
        "id": "R12ORsX2p5k3",
        "outputId": "cbdd436f-efa7-48b6-c7c0-d00884993525"
      },
      "source": [
        "for i in [24,64,78,13,5,94]:\r\n",
        "  if i == 6:\r\n",
        "    print(\"6 is present\",i)\r\n",
        "  elif i!=6:\r\n",
        "    print(i)"
      ],
      "execution_count": null,
      "outputs": [
        {
          "output_type": "stream",
          "text": [
            "24\n",
            "64\n",
            "78\n",
            "13\n",
            "5\n",
            "94\n"
          ],
          "name": "stdout"
        }
      ]
    },
    {
      "cell_type": "markdown",
      "metadata": {
        "id": "lCfEy2Wnsspb"
      },
      "source": [
        "TO check smallest value in list using for loop"
      ]
    },
    {
      "cell_type": "code",
      "metadata": {
        "colab": {
          "base_uri": "https://localhost:8080/"
        },
        "id": "v3R7WSZAssM7",
        "outputId": "7060f382-64e4-47bc-fd18-7c37ed13fad6"
      },
      "source": [
        "small = None # we dont know the largest number so we are using none \r\n",
        "for i in [24,64,37,102,2,45,92]:\r\n",
        "  if small is None:\r\n",
        "    small=i\r\n",
        "  elif i<small:# condition to check small number\r\n",
        "    small=i\r\n",
        "\r\n",
        "print(\"smallest value\",small)\r\n"
      ],
      "execution_count": null,
      "outputs": [
        {
          "output_type": "stream",
          "text": [
            "smallest value 2\n"
          ],
          "name": "stdout"
        }
      ]
    },
    {
      "cell_type": "markdown",
      "metadata": {
        "id": "F9GSXldwtxlX"
      },
      "source": [
        "this code is also use for largest number "
      ]
    },
    {
      "cell_type": "code",
      "metadata": {
        "colab": {
          "base_uri": "https://localhost:8080/"
        },
        "id": "5db3kuW5pzJ2",
        "outputId": "d943d4f6-aad9-4afc-cce7-58e7f72491a4"
      },
      "source": [
        "small = None # we dont know the largest number so we are using none \r\n",
        "for i in [24,64,37,102,2,45,92]:\r\n",
        "  if small is None:\r\n",
        "    small=i\r\n",
        "  elif i>small:# to check the greater number\r\n",
        "    small=i\r\n",
        "\r\n",
        "print(\"smallest value\",small)"
      ],
      "execution_count": null,
      "outputs": [
        {
          "output_type": "stream",
          "text": [
            "smallest value 102\n"
          ],
          "name": "stdout"
        }
      ]
    },
    {
      "cell_type": "markdown",
      "metadata": {
        "id": "OuU0TmY6u_2F"
      },
      "source": [
        "ASSIGNMENT on loops"
      ]
    },
    {
      "cell_type": "code",
      "metadata": {
        "id": "xv16-csIwXOi"
      },
      "source": [
        "# dont execute this program\r\n",
        "n=50\r\n",
        "while n>0:\r\n",
        "  print(n)\r\n",
        "print(\"done\")"
      ],
      "execution_count": null,
      "outputs": []
    },
    {
      "cell_type": "markdown",
      "metadata": {
        "id": "Yu9S8MM1vUjI"
      },
      "source": [
        ""
      ]
    },
    {
      "cell_type": "code",
      "metadata": {
        "colab": {
          "base_uri": "https://localhost:8080/"
        },
        "id": "25CXeZVLxJzr",
        "outputId": "e7acc640-8e58-4bdd-a358-e8c25beb3b0a"
      },
      "source": [
        "small = -1\r\n",
        "for i in [9,41,12,3,74,15]:\r\n",
        "  if i<small:\r\n",
        "    small = i\r\n",
        "print(small)"
      ],
      "execution_count": null,
      "outputs": [
        {
          "output_type": "stream",
          "text": [
            "-1\n"
          ],
          "name": "stdout"
        }
      ]
    },
    {
      "cell_type": "code",
      "metadata": {
        "colab": {
          "base_uri": "https://localhost:8080/"
        },
        "id": "_JDa89wDxv_o",
        "outputId": "f545fba9-3817-4e7b-b445-1523dfbb1319"
      },
      "source": [
        "n=0\r\n",
        "while n>0:\r\n",
        "  print('perfect')\r\n",
        "  print('plan')\r\n",
        "print('b!')\r\n"
      ],
      "execution_count": null,
      "outputs": [
        {
          "output_type": "stream",
          "text": [
            "b!\n"
          ],
          "name": "stdout"
        }
      ]
    },
    {
      "cell_type": "markdown",
      "metadata": {
        "id": "kI3XUdJY1bQ5"
      },
      "source": [
        "write a program which repeatedly reads numbers until the user enters \"exit\". Once \"exit\" is entered, print out the sum, count, and average of the numbers. If the user enters anything other than a number, detect their mistake using try and except and print an error message and skip to the next number.                        Enter a number: 4 Enter a number: 5 Enter a number: bad data Invalid input Enter a number: exit 9.0 2 4.5"
      ]
    },
    {
      "cell_type": "code",
      "metadata": {
        "colab": {
          "base_uri": "https://localhost:8080/"
        },
        "id": "5PJax2Ij1iQg",
        "outputId": "49143c7f-050c-4112-d366-06063b958c02"
      },
      "source": [
        "num = 0\r\n",
        "len = 0\r\n",
        "while True:\r\n",
        "  val =input(\"enter numbers\")\r\n",
        "  if val=='done':\r\n",
        "    break\r\n",
        "  try:\r\n",
        "    fval= float(val)# it will type cast the string to float\r\n",
        "  except:\r\n",
        "    print(\"invalid\")\r\n",
        "    continue\r\n",
        "  num =num + fval\r\n",
        "  len=len+1\r\n",
        "\r\n",
        "print(\"average\",num/len)"
      ],
      "execution_count": null,
      "outputs": [
        {
          "output_type": "stream",
          "text": [
            "enter numbers3\n",
            "enter numbers3\n",
            "enter numbers1\n",
            "enter numbersdone\n",
            "average 2.3333333333333335\n"
          ],
          "name": "stdout"
        }
      ]
    }
  ]
}