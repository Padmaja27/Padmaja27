{
  "nbformat": 4,
  "nbformat_minor": 0,
  "metadata": {
    "colab": {
      "name": "Functions.ipynb",
      "provenance": [],
      "authorship_tag": "ABX9TyOgRjQvroCAYLFu5VHBdecF",
      "include_colab_link": true
    },
    "kernelspec": {
      "name": "python3",
      "display_name": "Python 3"
    }
  },
  "cells": [
    {
      "cell_type": "markdown",
      "metadata": {
        "id": "view-in-github",
        "colab_type": "text"
      },
      "source": [
        "<a href=\"https://colab.research.google.com/github/Padmaja27/Padmaja27/blob/main/Functions.ipynb\" target=\"_parent\"><img src=\"https://colab.research.google.com/assets/colab-badge.svg\" alt=\"Open In Colab\"/></a>"
      ]
    },
    {
      "cell_type": "markdown",
      "metadata": {
        "id": "Z1g5ZFvHnk2a"
      },
      "source": [
        "FUntion defination"
      ]
    },
    {
      "cell_type": "code",
      "metadata": {
        "colab": {
          "base_uri": "https://localhost:8080/"
        },
        "id": "i1FGQg5JnpqO",
        "outputId": "665a7a7d-6f6d-414e-c485-f692b6ebb3ac"
      },
      "source": [
        "def myFirstFunction():\r\n",
        "  print(\"Hello\")\r\n",
        "  print(\"Wassuppp\")\r\n",
        "myFirstFunction()\r\n",
        "print(\"I am not in function\")\r\n",
        "myFirstFunction()"
      ],
      "execution_count": null,
      "outputs": [
        {
          "output_type": "stream",
          "text": [
            "Hello\n",
            "Wassuppp\n",
            "I am not in function\n",
            "Hello\n",
            "Wassuppp\n"
          ],
          "name": "stdout"
        }
      ]
    },
    {
      "cell_type": "markdown",
      "metadata": {
        "id": "FzQ5dYY_nhmb"
      },
      "source": [
        "Function with ARGUMENTS\r\n",
        "parameters"
      ]
    },
    {
      "cell_type": "code",
      "metadata": {
        "colab": {
          "base_uri": "https://localhost:8080/"
        },
        "id": "9uM0gr9pqaNp",
        "outputId": "716e04ab-60bd-4448-c627-b7c8879f0698"
      },
      "source": [
        "#checking different language by passing single parameter\r\n",
        "def myFunction(lang):\r\n",
        " if lang == 'es':\r\n",
        "   print(\"hola\")\r\n",
        " elif lang == 'hn':\r\n",
        "  print(\"nameste\")\r\n",
        " else:\r\n",
        "  print(\"HELLO\")\r\n",
        "myFunction(\"fn\")\r\n",
        "myFunction(\"es\")\r\n",
        "myFunction(\"hn\")"
      ],
      "execution_count": null,
      "outputs": [
        {
          "output_type": "stream",
          "text": [
            "HELLO\n",
            "hola\n",
            "nameste\n"
          ],
          "name": "stdout"
        }
      ]
    },
    {
      "cell_type": "code",
      "metadata": {
        "colab": {
          "base_uri": "https://localhost:8080/"
        },
        "id": "7MO1Q-o6rlB-",
        "outputId": "a8d524c3-1731-4da7-9e2e-9877069268be"
      },
      "source": [
        "# TO check given number is even or odd\r\n",
        "def checkNumber(num):\r\n",
        "  if num%2 ==0:\r\n",
        "    print(\"Number is Even\")\r\n",
        "  else:\r\n",
        "    print(\"number is odd\")\r\n",
        "  \r\n",
        "checkNumber(5)\r\n",
        "checkNumber(44)"
      ],
      "execution_count": null,
      "outputs": [
        {
          "output_type": "stream",
          "text": [
            "number is odd\n",
            "Number is Even\n"
          ],
          "name": "stdout"
        }
      ]
    },
    {
      "cell_type": "markdown",
      "metadata": {
        "id": "sHnR7_pYt_SE"
      },
      "source": [
        "return value to funtion\r\n",
        "return()"
      ]
    },
    {
      "cell_type": "code",
      "metadata": {
        "colab": {
          "base_uri": "https://localhost:8080/"
        },
        "id": "fsA1RRxIuEFY",
        "outputId": "a2fa2ca8-f1c9-4b4d-d41c-dd926f566317"
      },
      "source": [
        "def myFunction():\r\n",
        "  return 8\r\n",
        "if myFunction()==0:\r\n",
        "  print(\"hello\")\r\n",
        "else:\r\n",
        "  print(\"bye\")\r\n",
        "\r\n",
        "\r\n",
        "\r\n",
        "\r\n",
        "print(myFunction(),\"Padmaja\")"
      ],
      "execution_count": null,
      "outputs": [
        {
          "output_type": "stream",
          "text": [
            "bye\n",
            "8 Padmaja\n"
          ],
          "name": "stdout"
        }
      ]
    },
    {
      "cell_type": "code",
      "metadata": {
        "colab": {
          "base_uri": "https://localhost:8080/"
        },
        "id": "gkOGAdTsyjA6",
        "outputId": "8b388814-889e-492c-85f6-81a55421265c"
      },
      "source": [
        "#passing multiple parameters\r\n",
        "def add(a,b):\r\n",
        "  sum=a+b\r\n",
        "  return sum\r\n",
        "def multiply(a,b):#it will not multiply the strings\r\n",
        "  mul = a*b\r\n",
        "  return mul\r\n",
        "x= add(34,45)\r\n",
        "y= add(\"hello\",\"padmaja\")# you cant pass only one parameter and  \r\n",
        "print(y)\r\n",
        "print(x)\r\n",
        "m = multiply(2,3)\r\n",
        "print(m)\r\n",
        "#s = multiply(\"hii\",\"padmaja\")\r\n",
        "#print(s)"
      ],
      "execution_count": null,
      "outputs": [
        {
          "output_type": "stream",
          "text": [
            "hellopadmaja\n",
            "79\n",
            "6\n"
          ],
          "name": "stdout"
        }
      ]
    },
    {
      "cell_type": "markdown",
      "metadata": {
        "id": "irEvGhUn0gXb"
      },
      "source": [
        "ASSINGMENT"
      ]
    },
    {
      "cell_type": "code",
      "metadata": {
        "colab": {
          "base_uri": "https://localhost:8080/"
        },
        "id": "yqM1AmkU0iyW",
        "outputId": "9f0b9a25-931d-439b-c4fe-5c07b74cae98"
      },
      "source": [
        "def func():\r\n",
        "  print(\"perfect\")\r\n",
        "print(\"plan B\")"
      ],
      "execution_count": null,
      "outputs": [
        {
          "output_type": "stream",
          "text": [
            "plan B\n"
          ],
          "name": "stdout"
        }
      ]
    },
    {
      "cell_type": "code",
      "metadata": {
        "colab": {
          "base_uri": "https://localhost:8080/"
        },
        "id": "scecRldK033z",
        "outputId": "151bcf50-5226-4129-e9bb-4553c35399f3"
      },
      "source": [
        "def func(x):\r\n",
        "  print(x)\r\n",
        "func(15)\r\n",
        "func(25)"
      ],
      "execution_count": null,
      "outputs": [
        {
          "output_type": "stream",
          "text": [
            "15\n",
            "25\n"
          ],
          "name": "stdout"
        }
      ]
    },
    {
      "cell_type": "code",
      "metadata": {
        "colab": {
          "base_uri": "https://localhost:8080/"
        },
        "id": "0o2qghNs1N88",
        "outputId": "41821f44-c1bb-4632-f891-8c1dcc3d2162"
      },
      "source": [
        "def func():\r\n",
        "  print('perfect')\r\n",
        "  return\r\n",
        "  print('PlanB')\r\n",
        "func()"
      ],
      "execution_count": null,
      "outputs": [
        {
          "output_type": "stream",
          "text": [
            "perfect\n"
          ],
          "name": "stdout"
        }
      ]
    },
    {
      "cell_type": "code",
      "metadata": {
        "colab": {
          "base_uri": "https://localhost:8080/"
        },
        "id": "_R_LPVVi10zP",
        "outputId": "ec320ff7-a6f4-4e7a-835e-7addfff5a442"
      },
      "source": [
        "def addtwoNums(a,b):\r\n",
        "  added = a+b\r\n",
        "  return a\r\n",
        "x= addtwoNums(2,7)\r\n",
        "print(x)"
      ],
      "execution_count": null,
      "outputs": [
        {
          "output_type": "stream",
          "text": [
            "2\n"
          ],
          "name": "stdout"
        }
      ]
    },
    {
      "cell_type": "code",
      "metadata": {
        "colab": {
          "base_uri": "https://localhost:8080/"
        },
        "id": "ptw_1BCk2YoP",
        "outputId": "0738efda-acd6-46c2-a54f-b6dcc3f631ea"
      },
      "source": [
        "def say(message,times=1):\r\n",
        "  print(message*times)\r\n",
        "say('perfect')\r\n",
        "say('PLANB ',5)"
      ],
      "execution_count": null,
      "outputs": [
        {
          "output_type": "stream",
          "text": [
            "perfect\n",
            "PLANB PLANB PLANB PLANB PLANB \n"
          ],
          "name": "stdout"
        }
      ]
    },
    {
      "cell_type": "code",
      "metadata": {
        "id": "VnSnILKk3zU0"
      },
      "source": [
        "ASSIGNMENT  pay"
      ],
      "execution_count": null,
      "outputs": []
    },
    {
      "cell_type": "code",
      "metadata": {
        "colab": {
          "base_uri": "https://localhost:8080/"
        },
        "id": "OSsbclan3189",
        "outputId": "8cf155f9-0a44-4f9b-a6de-dee8520c1a5a"
      },
      "source": [
        "def computeTotalpay(a,b):\r\n",
        "  t =a*b\r\n",
        "  return t\r\n",
        "print(\"total pay is \",computeTotalpay(45,10))"
      ],
      "execution_count": null,
      "outputs": [
        {
          "output_type": "stream",
          "text": [
            "total pay is  450\n"
          ],
          "name": "stdout"
        }
      ]
    },
    {
      "cell_type": "code",
      "metadata": {
        "colab": {
          "base_uri": "https://localhost:8080/"
        },
        "id": "93OJX_KO40J2",
        "outputId": "c332bc2e-cc7f-4256-fdb7-caab8c05a352"
      },
      "source": [
        "def computeTotalpay(days, rate):\r\n",
        " pay = days * rate\r\n",
        " return pay\r\n",
        "\r\n",
        "xh = input(\"Enter Days:\")\r\n",
        "\r\n",
        "xr = input(\"Enter Rate:\")\r\n",
        "\r\n",
        "\r\n",
        "try:\r\n",
        " fh = float(xh)\r\n",
        " fr = float(xr)\r\n",
        "\r\n",
        " print(\"Pay: \",computeTotalpay(fh,fr))\r\n",
        "except:\r\n",
        " print(\"Error, please enter numeric input\")\r\n"
      ],
      "execution_count": null,
      "outputs": [
        {
          "output_type": "stream",
          "text": [
            "Enter Days:40\n",
            "Enter Rate:10\n",
            "Pay:  400.0\n"
          ],
          "name": "stdout"
        }
      ]
    },
    {
      "cell_type": "markdown",
      "metadata": {
        "id": "G3H09NMESolR"
      },
      "source": [
        "Loops and iterations"
      ]
    },
    {
      "cell_type": "code",
      "metadata": {
        "colab": {
          "base_uri": "https://localhost:8080/"
        },
        "id": "qZPsDjRTSupl",
        "outputId": "f89a8b97-17cb-41c6-fa2b-69b37e72b18a"
      },
      "source": [
        "count = 0\r\n",
        "while(count <=5):\r\n",
        "  count = count+1\r\n",
        "  print(\"It is while loopssssss\")"
      ],
      "execution_count": null,
      "outputs": [
        {
          "output_type": "stream",
          "text": [
            "It is while loopssssss\n",
            "It is while loopssssss\n",
            "It is while loopssssss\n",
            "It is while loopssssss\n",
            "It is while loopssssss\n",
            "It is while loopssssss\n"
          ],
          "name": "stdout"
        }
      ]
    }
  ]
}