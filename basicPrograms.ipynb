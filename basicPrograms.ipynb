{
  "nbformat": 4,
  "nbformat_minor": 0,
  "metadata": {
    "colab": {
      "name": "basicPrograms.ipynb",
      "provenance": [],
      "authorship_tag": "ABX9TyMLiY3DsVMNnRlim/Wh1L5C",
      "include_colab_link": true
    },
    "kernelspec": {
      "name": "python3",
      "display_name": "Python 3"
    }
  },
  "cells": [
    {
      "cell_type": "markdown",
      "metadata": {
        "id": "view-in-github",
        "colab_type": "text"
      },
      "source": [
        "<a href=\"https://colab.research.google.com/github/Padmaja27/Padmaja27/blob/main/basicPrograms.ipynb\" target=\"_parent\"><img src=\"https://colab.research.google.com/assets/colab-badge.svg\" alt=\"Open In Colab\"/></a>"
      ]
    },
    {
      "cell_type": "markdown",
      "metadata": {
        "id": "gbrMsWvtnTHB"
      },
      "source": [
        "Adding of two numbers by reading from keyboard"
      ]
    },
    {
      "cell_type": "code",
      "metadata": {
        "colab": {
          "base_uri": "https://localhost:8080/"
        },
        "id": "Q4NPQ-7rnHai",
        "outputId": "828ca838-fd6a-441a-fe9b-0b86cd5f954e"
      },
      "source": [
        "a= float(input(\"enter a number\"))\r\n",
        "b= float(input(\"enter b number\"))\r\n",
        "sum= a+b\r\n",
        "print(\"sum of the {0} and {1} is {2} numbers\".format(a,b,sum))"
      ],
      "execution_count": null,
      "outputs": [
        {
          "output_type": "stream",
          "text": [
            "enter a number5\n",
            "enter b number6\n",
            "sum of the 5.0 and 6.0 is 11.0 numbers\n"
          ],
          "name": "stdout"
        }
      ]
    },
    {
      "cell_type": "markdown",
      "metadata": {
        "id": "DUjFvAJgzcya"
      },
      "source": [
        "Factorial of a number"
      ]
    },
    {
      "cell_type": "code",
      "metadata": {
        "colab": {
          "base_uri": "https://localhost:8080/"
        },
        "id": "70MH7XbJn139",
        "outputId": "cd9d84fa-22cb-4073-c972-4acebbc30279"
      },
      "source": [
        "fact=1\r\n",
        "for i in[1,2,3,4,5]:\r\n",
        "  fact =fact*i\r\n",
        "print(fact)"
      ],
      "execution_count": null,
      "outputs": [
        {
          "output_type": "stream",
          "text": [
            "120\n"
          ],
          "name": "stdout"
        }
      ]
    },
    {
      "cell_type": "code",
      "metadata": {
        "colab": {
          "base_uri": "https://localhost:8080/"
        },
        "id": "IvXnaPGM0WVu",
        "outputId": "8c3dbdb6-5b94-4fb6-ee2c-7c0e5147d61f"
      },
      "source": [
        "def factorial(n):\r\n",
        "  if n==0:\r\n",
        "    return 1\r\n",
        "  else:\r\n",
        "    return n*factorial(n-1)\r\n",
        "n=int(input(\"enter a number\"))\r\n",
        "print(factorial(n))  "
      ],
      "execution_count": null,
      "outputs": [
        {
          "output_type": "stream",
          "text": [
            "enter a number5\n",
            "120\n"
          ],
          "name": "stdout"
        }
      ]
    },
    {
      "cell_type": "code",
      "metadata": {
        "colab": {
          "base_uri": "https://localhost:8080/"
        },
        "id": "XPmMsSVB4jPw",
        "outputId": "567c2280-b9ea-40a0-9b2f-eac39540735b"
      },
      "source": [
        "n= int(input(\"enter a number \"))\r\n",
        "fact=1\r\n",
        "for i in range(1,n+1):\r\n",
        "  fact =fact*i\r\n",
        "print(fact)"
      ],
      "execution_count": null,
      "outputs": [
        {
          "output_type": "stream",
          "text": [
            "enter a number 8\n",
            "40320\n"
          ],
          "name": "stdout"
        }
      ]
    },
    {
      "cell_type": "markdown",
      "metadata": {
        "id": "j0fY5_NS5hmF"
      },
      "source": [
        "python code for simple interest s=prt/100"
      ]
    },
    {
      "cell_type": "code",
      "metadata": {
        "colab": {
          "base_uri": "https://localhost:8080/"
        },
        "id": "JgpgFTnl5hNl",
        "outputId": "827f379b-6fc9-4f45-fc17-35426f9d925a"
      },
      "source": [
        "p=int(input(\"enter principle amount\"))\r\n",
        "t= int(input(\"enter time value\"))\r\n",
        "r = int(input(\"enter rate of interest \"))\r\n",
        "sum=(p*r*t)/100\r\n",
        "print(\"simple interest is\",sum)"
      ],
      "execution_count": null,
      "outputs": [
        {
          "output_type": "stream",
          "text": [
            "enter principle amount3000\n",
            "enter time value7\n",
            "enter rate of interest 1\n",
            "simple interest is 210.0\n"
          ],
          "name": "stdout"
        }
      ]
    },
    {
      "cell_type": "markdown",
      "metadata": {
        "id": "gc9bLhD6nPLE"
      },
      "source": [
        "python program for compound interest "
      ]
    },
    {
      "cell_type": "code",
      "metadata": {
        "colab": {
          "base_uri": "https://localhost:8080/"
        },
        "id": "gvao53Zh70GX",
        "outputId": "30e8564f-0dd9-43f0-a1d2-eb52d722c50a"
      },
      "source": [
        "p=float(input(\"enter p value \"))\r\n",
        "r=float(input(\"enter r value \"))\r\n",
        "t=float(input(\"enter t value \"))\r\n",
        "a=p*(1+r/100)**t\r\n",
        "ci=a-p\r\n",
        "print(\"compund interest is \",ci)"
      ],
      "execution_count": null,
      "outputs": [
        {
          "output_type": "stream",
          "text": [
            "enter p value 3000\n",
            "enter r value 5\n",
            "enter t value 2\n",
            "compund interest is  307.5\n"
          ],
          "name": "stdout"
        }
      ]
    },
    {
      "cell_type": "markdown",
      "metadata": {
        "id": "rAYhtGLLmjwV"
      },
      "source": [
        "program to check a number is Armstrong NUmber or not "
      ]
    },
    {
      "cell_type": "code",
      "metadata": {
        "colab": {
          "base_uri": "https://localhost:8080/"
        },
        "id": "dIeYPhKBmu6q",
        "outputId": "561d196b-7c48-4e10-fae5-183be3d2bf21"
      },
      "source": [
        "num = int(input(\"enter a number \"))\r\n",
        "sum=0\r\n",
        "temp=num\r\n",
        "while temp>0:\r\n",
        "  digit=temp%10\r\n",
        "  sum+=(digit**3)\r\n",
        "  temp//=10\r\n",
        "if num==sum:\r\n",
        "  print(num,\" is armtrong number \")\r\n",
        "else:\r\n",
        "  print(num,\"not an armstrong\")"
      ],
      "execution_count": null,
      "outputs": [
        {
          "output_type": "stream",
          "text": [
            "enter a number195\n",
            "195 not an armstrong\n"
          ],
          "name": "stdout"
        }
      ]
    },
    {
      "cell_type": "code",
      "metadata": {
        "colab": {
          "base_uri": "https://localhost:8080/"
        },
        "id": "46WkhRASrK-E",
        "outputId": "767c1ece-ff8e-41a5-9c3b-a1f6f29a6773"
      },
      "source": [
        "# in particular range between the number how many armstrong numbers a there\r\n",
        "small = 100\r\n",
        "large = 2000\r\n",
        "for num in range(small,large+1):\r\n",
        "  order = len(str(num))\r\n",
        "  sum=0\r\n",
        "  temp=num\r\n",
        "  while temp>0:\r\n",
        "    rem=temp%10\r\n",
        "    sum+=rem**order\r\n",
        "    temp//=10\r\n",
        "  if num==sum:\r\n",
        "    print(num)"
      ],
      "execution_count": null,
      "outputs": [
        {
          "output_type": "stream",
          "text": [
            "153\n",
            "370\n",
            "371\n",
            "407\n",
            "1634\n"
          ],
          "name": "stdout"
        }
      ]
    },
    {
      "cell_type": "markdown",
      "metadata": {
        "id": "WMVruY_2vgXO"
      },
      "source": [
        "Find Area of the circle"
      ]
    },
    {
      "cell_type": "code",
      "metadata": {
        "colab": {
          "base_uri": "https://localhost:8080/"
        },
        "id": "eGOeGjk9vljP",
        "outputId": "f09f23fa-9894-40db-9ca0-20c499bcd83d"
      },
      "source": [
        "import math\r\n",
        "r = float(input(\"enter the radius \"))\r\n",
        "area = math.pi*r*r\r\n",
        "print(area)"
      ],
      "execution_count": null,
      "outputs": [
        {
          "output_type": "stream",
          "text": [
            "enter the radius 2.5\n",
            "19.634954084936208\n"
          ],
          "name": "stdout"
        }
      ]
    },
    {
      "cell_type": "markdown",
      "metadata": {
        "id": "ELuGRevpxWWb"
      },
      "source": [
        "Print all prime numbers in an intervel"
      ]
    },
    {
      "cell_type": "code",
      "metadata": {
        "colab": {
          "base_uri": "https://localhost:8080/"
        },
        "id": "sVAPehLhxePu",
        "outputId": "a31936ae-326d-463e-a598-606ab6c7ecfd"
      },
      "source": [
        "lower = int(input(\"enter lower number \"))\r\n",
        "upper = int(input(\"enter upper number \"))\r\n",
        "for num in range(lower,upper+1):\r\n",
        "  if num>1:\r\n",
        "    for i in range(2,num):\r\n",
        "      if (num%i)==0:\r\n",
        "        break\r\n",
        "      else:\r\n",
        "       print(num)\r\n",
        "       break"
      ],
      "execution_count": null,
      "outputs": [
        {
          "output_type": "stream",
          "text": [
            "enter lower number 2\n",
            "enter upper number 20\n",
            "3\n",
            "5\n",
            "7\n",
            "9\n",
            "11\n",
            "13\n",
            "15\n",
            "17\n",
            "19\n"
          ],
          "name": "stdout"
        }
      ]
    },
    {
      "cell_type": "markdown",
      "metadata": {
        "id": "RfdPSkX_AFve"
      },
      "source": [
        "prime or not"
      ]
    },
    {
      "cell_type": "code",
      "metadata": {
        "colab": {
          "base_uri": "https://localhost:8080/"
        },
        "id": "334UriuSAIOC",
        "outputId": "c807fe8f-44b8-46e3-c8cb-d33a740109ee"
      },
      "source": [
        "num =int(input(\"enter a number: \"))\r\n",
        "if num > 1:\r\n",
        "   for i in range(2,num):\r\n",
        "     if (num%i)==0:\r\n",
        "       print(num,\"not a prime\")\r\n",
        "       break\r\n",
        "   else:\r\n",
        "    print(\"prime\")\r\n",
        "else:\r\n",
        "  print(\"not a prime\")"
      ],
      "execution_count": null,
      "outputs": [
        {
          "output_type": "stream",
          "text": [
            "enter a number: 15\n",
            "15 not a prime\n"
          ],
          "name": "stdout"
        }
      ]
    },
    {
      "cell_type": "code",
      "metadata": {
        "colab": {
          "base_uri": "https://localhost:8080/"
        },
        "id": "XeParkIiDHmU",
        "outputId": "f47013e9-079c-483e-8f96-1a30ac95e891"
      },
      "source": [
        "# taking input from user\r\n",
        "number = int(input(\"Enter any number: \"))\r\n",
        "\r\n",
        "# prime number is always greater than 1\r\n",
        "if number > 1:\r\n",
        "    for i in range(2, number):\r\n",
        "        if (number % i) == 0:\r\n",
        "            print(number, \"is not a prime number\")\r\n",
        "            break\r\n",
        "        else:\r\n",
        "            print(number, \"is a prime number\")\r\n",
        "\r\n",
        "# if the entered number is less than or equal to 1\r\n",
        "# then it is not prime number\r\n",
        "else:\r\n",
        "    print(number, \"is not a prime number\")"
      ],
      "execution_count": null,
      "outputs": [
        {
          "output_type": "stream",
          "text": [
            "Enter any number: 3\n",
            "3 is a prime number\n"
          ],
          "name": "stdout"
        }
      ]
    },
    {
      "cell_type": "markdown",
      "metadata": {
        "id": "ayA7OvDjGX71"
      },
      "source": [
        "Fibonacci series 0,1,1,2,3,5,8,13,21"
      ]
    },
    {
      "cell_type": "code",
      "metadata": {
        "colab": {
          "base_uri": "https://localhost:8080/"
        },
        "id": "vdzN7hBRGmq5",
        "outputId": "5bfd453a-c1a4-4db9-e707-52d89b6c44d0"
      },
      "source": [
        "def fib(n):\r\n",
        "  if n<=1:\r\n",
        "    return n\r\n",
        "  else:\r\n",
        "    return (fib(n-1)+fib(n-2))\r\n",
        "num=int(input(\"enter range \"))\r\n",
        "if num<=0:\r\n",
        "  print(\"enter positive number \")\r\n",
        "else:\r\n",
        "  print(\"febonacci series\")\r\n",
        "  for i in range(num):\r\n",
        "    print(fib(i))"
      ],
      "execution_count": null,
      "outputs": [
        {
          "output_type": "stream",
          "text": [
            "enter range 6\n",
            "febonacci series\n",
            "0\n",
            "1\n",
            "1\n",
            "2\n",
            "3\n",
            "5\n"
          ],
          "name": "stdout"
        }
      ]
    }
  ]
}