{
  "nbformat": 4,
  "nbformat_minor": 0,
  "metadata": {
    "colab": {
      "name": "LEARN.ipynb",
      "provenance": [],
      "authorship_tag": "ABX9TyOh8QV9Jo3C3iYOk80dcEGR",
      "include_colab_link": true
    },
    "kernelspec": {
      "name": "python3",
      "display_name": "Python 3"
    }
  },
  "cells": [
    {
      "cell_type": "markdown",
      "metadata": {
        "id": "view-in-github",
        "colab_type": "text"
      },
      "source": [
        "<a href=\"https://colab.research.google.com/github/Padmaja27/Padmaja27/blob/main/LEARN.ipynb\" target=\"_parent\"><img src=\"https://colab.research.google.com/assets/colab-badge.svg\" alt=\"Open In Colab\"/></a>"
      ]
    },
    {
      "cell_type": "markdown",
      "metadata": {
        "id": "o4A29679PKdp"
      },
      "source": [
        "Data types"
      ]
    },
    {
      "cell_type": "code",
      "metadata": {
        "colab": {
          "base_uri": "https://localhost:8080/"
        },
        "id": "SZ30RVmMFpjp",
        "outputId": "856d6ce0-e07f-477f-b421-baea13d85056"
      },
      "source": [
        "test = \"hello\" + \"there\"\r\n",
        "type(test)\r\n",
        "test =\"hello\"\r\n",
        "type(test)\r\n"
      ],
      "execution_count": null,
      "outputs": [
        {
          "output_type": "execute_result",
          "data": {
            "text/plain": [
              "str"
            ]
          },
          "metadata": {
            "tags": []
          },
          "execution_count": 4
        }
      ]
    },
    {
      "cell_type": "code",
      "metadata": {
        "colab": {
          "base_uri": "https://localhost:8080/",
          "height": 231
        },
        "id": "Qzl2aR9dM5E2",
        "outputId": "20d7ed4e-4d09-4afa-fbd2-1e8fe97b97ad"
      },
      "source": [
        "word = \"stupid\"\r\n",
        "print(type(word))\r\n",
        "num = 1\r\n",
        "sum = word + num\r\n",
        "print(type(sum))"
      ],
      "execution_count": null,
      "outputs": [
        {
          "output_type": "stream",
          "text": [
            "<class 'str'>\n"
          ],
          "name": "stdout"
        },
        {
          "output_type": "error",
          "ename": "TypeError",
          "evalue": "ignored",
          "traceback": [
            "\u001b[0;31m---------------------------------------------------------------------------\u001b[0m",
            "\u001b[0;31mTypeError\u001b[0m                                 Traceback (most recent call last)",
            "\u001b[0;32m<ipython-input-8-738c2e90b706>\u001b[0m in \u001b[0;36m<module>\u001b[0;34m()\u001b[0m\n\u001b[1;32m      2\u001b[0m \u001b[0mprint\u001b[0m\u001b[0;34m(\u001b[0m\u001b[0mtype\u001b[0m\u001b[0;34m(\u001b[0m\u001b[0mword\u001b[0m\u001b[0;34m)\u001b[0m\u001b[0;34m)\u001b[0m\u001b[0;34m\u001b[0m\u001b[0;34m\u001b[0m\u001b[0m\n\u001b[1;32m      3\u001b[0m \u001b[0mnum\u001b[0m \u001b[0;34m=\u001b[0m \u001b[0;36m1\u001b[0m\u001b[0;34m\u001b[0m\u001b[0;34m\u001b[0m\u001b[0m\n\u001b[0;32m----> 4\u001b[0;31m \u001b[0msum\u001b[0m \u001b[0;34m=\u001b[0m \u001b[0mword\u001b[0m \u001b[0;34m+\u001b[0m \u001b[0mnum\u001b[0m\u001b[0;34m\u001b[0m\u001b[0;34m\u001b[0m\u001b[0m\n\u001b[0m\u001b[1;32m      5\u001b[0m \u001b[0mprint\u001b[0m\u001b[0;34m(\u001b[0m\u001b[0mtype\u001b[0m\u001b[0;34m(\u001b[0m\u001b[0msum\u001b[0m\u001b[0;34m)\u001b[0m\u001b[0;34m)\u001b[0m\u001b[0;34m\u001b[0m\u001b[0;34m\u001b[0m\u001b[0m\n",
            "\u001b[0;31mTypeError\u001b[0m: can only concatenate str (not \"int\") to str"
          ]
        }
      ]
    },
    {
      "cell_type": "markdown",
      "metadata": {
        "id": "RG4M0pDKPJYf"
      },
      "source": [
        "Type casting (converting data types"
      ]
    },
    {
      "cell_type": "code",
      "metadata": {
        "colab": {
          "base_uri": "https://localhost:8080/"
        },
        "id": "Cvf5r_8AUyjc",
        "outputId": "a12594c9-0509-44f4-bd3e-8da20778f439"
      },
      "source": [
        "print(float(9)+100)\r\n",
        "print(10/2)"
      ],
      "execution_count": null,
      "outputs": [
        {
          "output_type": "stream",
          "text": [
            "109.0\n",
            "5.0\n"
          ],
          "name": "stdout"
        }
      ]
    },
    {
      "cell_type": "code",
      "metadata": {
        "colab": {
          "base_uri": "https://localhost:8080/"
        },
        "id": "vEtH46U0VuWP",
        "outputId": "e91c31ac-d117-4a22-8974-529caff5019f"
      },
      "source": [
        "test = \"123\"\r\n",
        "testin = int(test)\r\n",
        "print(type(testin))\r\n",
        "print(type(test))"
      ],
      "execution_count": null,
      "outputs": [
        {
          "output_type": "stream",
          "text": [
            "<class 'int'>\n",
            "<class 'str'>\n"
          ],
          "name": "stdout"
        }
      ]
    },
    {
      "cell_type": "code",
      "metadata": {
        "colab": {
          "base_uri": "https://localhost:8080/",
          "height": 214
        },
        "id": "zi1Dsi3vWQIA",
        "outputId": "b663e243-1ef0-47ed-a991-d629678ad8b3"
      },
      "source": [
        "test = \"whatupp\"\r\n",
        "testin = int(test)\r\n",
        "print(type(testin))\r\n",
        "print(type(test))"
      ],
      "execution_count": null,
      "outputs": [
        {
          "output_type": "error",
          "ename": "ValueError",
          "evalue": "ignored",
          "traceback": [
            "\u001b[0;31m---------------------------------------------------------------------------\u001b[0m",
            "\u001b[0;31mValueError\u001b[0m                                Traceback (most recent call last)",
            "\u001b[0;32m<ipython-input-13-bf6036df747f>\u001b[0m in \u001b[0;36m<module>\u001b[0;34m()\u001b[0m\n\u001b[1;32m      1\u001b[0m \u001b[0mtest\u001b[0m \u001b[0;34m=\u001b[0m \u001b[0;34m\"whatupp\"\u001b[0m\u001b[0;34m\u001b[0m\u001b[0;34m\u001b[0m\u001b[0m\n\u001b[0;32m----> 2\u001b[0;31m \u001b[0mtestin\u001b[0m \u001b[0;34m=\u001b[0m \u001b[0mint\u001b[0m\u001b[0;34m(\u001b[0m\u001b[0mtest\u001b[0m\u001b[0;34m)\u001b[0m\u001b[0;34m\u001b[0m\u001b[0;34m\u001b[0m\u001b[0m\n\u001b[0m\u001b[1;32m      3\u001b[0m \u001b[0mprint\u001b[0m\u001b[0;34m(\u001b[0m\u001b[0mtype\u001b[0m\u001b[0;34m(\u001b[0m\u001b[0mtestin\u001b[0m\u001b[0;34m)\u001b[0m\u001b[0;34m)\u001b[0m\u001b[0;34m\u001b[0m\u001b[0;34m\u001b[0m\u001b[0m\n\u001b[1;32m      4\u001b[0m \u001b[0mprint\u001b[0m\u001b[0;34m(\u001b[0m\u001b[0mtype\u001b[0m\u001b[0;34m(\u001b[0m\u001b[0mtest\u001b[0m\u001b[0;34m)\u001b[0m\u001b[0;34m)\u001b[0m\u001b[0;34m\u001b[0m\u001b[0;34m\u001b[0m\u001b[0m\n",
            "\u001b[0;31mValueError\u001b[0m: invalid literal for int() with base 10: 'whatupp'"
          ]
        }
      ]
    },
    {
      "cell_type": "markdown",
      "metadata": {
        "id": "b9DfMC3BZo7P"
      },
      "source": [
        "entering input through user "
      ]
    },
    {
      "cell_type": "code",
      "metadata": {
        "colab": {
          "base_uri": "https://localhost:8080/"
        },
        "id": "KNCZ1ZWBZnFp",
        "outputId": "41271b6a-1ada-4f71-af09-be38ca71d11b"
      },
      "source": [
        "name = input(\"what is your name \")\r\n",
        "print(\"welcome\",name)"
      ],
      "execution_count": null,
      "outputs": [
        {
          "output_type": "stream",
          "text": [
            "what is your name padmaja\n",
            "welcome padmaja\n"
          ],
          "name": "stdout"
        }
      ]
    },
    {
      "cell_type": "code",
      "metadata": {
        "colab": {
          "base_uri": "https://localhost:8080/"
        },
        "id": "aDhh3BrYaZwu",
        "outputId": "f18d9bd1-7809-4446-b3bd-467e86452155"
      },
      "source": [
        "#coverting in to numbers\r\n",
        "name = input(\"enter a number \")\r\n",
        "Added = int(name)+12\r\n",
        "print(\"added value\", Added)"
      ],
      "execution_count": null,
      "outputs": [
        {
          "output_type": "stream",
          "text": [
            "enter a number 457\n",
            "added value 469\n"
          ],
          "name": "stdout"
        }
      ]
    },
    {
      "cell_type": "markdown",
      "metadata": {
        "id": "3x5wg8F0bfF0"
      },
      "source": [
        "ASSIGNMENT quiz"
      ]
    },
    {
      "cell_type": "code",
      "metadata": {
        "colab": {
          "base_uri": "https://localhost:8080/"
        },
        "id": "lMnAagieblRR",
        "outputId": "7ef10975-97d0-41fc-df99-a0e3e0ee8d27"
      },
      "source": [
        "print(89.2)"
      ],
      "execution_count": null,
      "outputs": [
        {
          "output_type": "stream",
          "text": [
            "89.2\n"
          ],
          "name": "stdout"
        }
      ]
    },
    {
      "cell_type": "code",
      "metadata": {
        "colab": {
          "base_uri": "https://localhost:8080/"
        },
        "id": "yZElK68Rbt0h",
        "outputId": "f390eb12-9e64-475c-bf5c-7296a98e6518"
      },
      "source": [
        "print(\"perfect plan b\" + \"123\")"
      ],
      "execution_count": null,
      "outputs": [
        {
          "output_type": "stream",
          "text": [
            "perfect plan b123\n"
          ],
          "name": "stdout"
        }
      ]
    },
    {
      "cell_type": "code",
      "metadata": {
        "colab": {
          "base_uri": "https://localhost:8080/"
        },
        "id": "C8xvqZc_cXy3",
        "outputId": "03c8838a-b0f3-4c0c-b962-a4a699ce65e9"
      },
      "source": [
        "j =4\r\n",
        "j = j+4\r\n",
        "print(j)"
      ],
      "execution_count": null,
      "outputs": [
        {
          "output_type": "stream",
          "text": [
            "8\n"
          ],
          "name": "stdout"
        }
      ]
    },
    {
      "cell_type": "code",
      "metadata": {
        "colab": {
          "base_uri": "https://localhost:8080/"
        },
        "id": "lXGXaTXDcrku",
        "outputId": "5cc0ee31-7c8d-4370-9064-fbae701d031b"
      },
      "source": [
        "i = 32%10\r\n",
        "print(i)"
      ],
      "execution_count": null,
      "outputs": [
        {
          "output_type": "stream",
          "text": [
            "2\n"
          ],
          "name": "stdout"
        }
      ]
    },
    {
      "cell_type": "code",
      "metadata": {
        "colab": {
          "base_uri": "https://localhost:8080/"
        },
        "id": "6ScEFlAfc6KQ",
        "outputId": "2da839e3-b8a1-40bb-ac9d-cc5af5499a30"
      },
      "source": [
        "z = 1+3*2-8/4\r\n",
        "print(z)"
      ],
      "execution_count": null,
      "outputs": [
        {
          "output_type": "stream",
          "text": [
            "5.0\n"
          ],
          "name": "stdout"
        }
      ]
    },
    {
      "cell_type": "code",
      "metadata": {
        "colab": {
          "base_uri": "https://localhost:8080/"
        },
        "id": "cX05-rhPdJKC",
        "outputId": "379a536d-d1da-43be-9555-954680e29e3d"
      },
      "source": [
        "x = int(89.7)\r\n",
        "print(x)"
      ],
      "execution_count": null,
      "outputs": [
        {
          "output_type": "stream",
          "text": [
            "89\n"
          ],
          "name": "stdout"
        }
      ]
    },
    {
      "cell_type": "code",
      "metadata": {
        "colab": {
          "base_uri": "https://localhost:8080/"
        },
        "id": "qxUEmriqeZdR",
        "outputId": "59ea3e64-c925-44b0-a68c-8f261af9f3ae"
      },
      "source": [
        "days = input(\"enter the days \")\r\n",
        "rate = input(\"enter rate \")\r\n",
        "totalpay = float(days) * float(rate) \r\n",
        "print(\"Total pay\", totalpay)"
      ],
      "execution_count": null,
      "outputs": [
        {
          "output_type": "stream",
          "text": [
            "enter the days 50\n",
            "enter rate3.5\n",
            "Total pay 175.0\n"
          ],
          "name": "stdout"
        }
      ]
    },
    {
      "cell_type": "markdown",
      "metadata": {
        "id": "JyuvTkHwt5E8"
      },
      "source": [
        "if elif and else  conditions"
      ]
    },
    {
      "cell_type": "code",
      "metadata": {
        "colab": {
          "base_uri": "https://localhost:8080/"
        },
        "id": "SI6mkBMqt1ro",
        "outputId": "38198a5b-21db-4789-d69d-20527b97b93e"
      },
      "source": [
        "num = float(input(\"enter a number\"))\r\n",
        "if num>0:\r\n",
        " print(\"enterd number is positive\")\r\n",
        "elif num == 0:\r\n",
        " print(\"number is zero\")\r\n",
        "else:\r\n",
        "  print(\"number is negative \", num)\r\n",
        "print(\"the end \")"
      ],
      "execution_count": null,
      "outputs": [
        {
          "output_type": "stream",
          "text": [
            "enter a number0\n",
            "number is zero\n",
            "the end \n"
          ],
          "name": "stdout"
        }
      ]
    },
    {
      "cell_type": "code",
      "metadata": {
        "colab": {
          "base_uri": "https://localhost:8080/"
        },
        "id": "n85N5TjSxI8m",
        "outputId": "c4f11354-e592-4eff-cb83-aefab27c2dc2"
      },
      "source": [
        "num = 10\r\n",
        "if num>10:\r\n",
        "  print(\"numbe is greater than 10\")\r\n",
        "print(num)"
      ],
      "execution_count": null,
      "outputs": [
        {
          "output_type": "stream",
          "text": [
            "10\n"
          ],
          "name": "stdout"
        }
      ]
    },
    {
      "cell_type": "markdown",
      "metadata": {
        "id": "FnBZ7qaJzbDK"
      },
      "source": [
        "Exception handling\r\n",
        "try :\r\n",
        "except:"
      ]
    },
    {
      "cell_type": "code",
      "metadata": {
        "colab": {
          "base_uri": "https://localhost:8080/"
        },
        "id": "runQxhJ2zjVu",
        "outputId": "1b6c22db-b8de-45e2-8b16-d02fa7272728"
      },
      "source": [
        "num = input(\"enter a number\")\r\n",
        "try:\r\n",
        "  val = float(num)\r\n",
        "  print(\"conversion is successful\")\r\n",
        "except:\r\n",
        "  val = -1\r\n",
        "if val>0:\r\n",
        "  print(\"number is\",val)\r\n",
        "else:\r\n",
        "  print(\"not a number\")"
      ],
      "execution_count": null,
      "outputs": [
        {
          "output_type": "stream",
          "text": [
            "enter a number-9.8\n",
            "conversion is successful\n",
            "not a number\n"
          ],
          "name": "stdout"
        }
      ]
    },
    {
      "cell_type": "markdown",
      "metadata": {
        "id": "OPuBSWrc1SwL"
      },
      "source": [
        "Assignment quiz"
      ]
    },
    {
      "cell_type": "code",
      "metadata": {
        "colab": {
          "base_uri": "https://localhost:8080/"
        },
        "id": "hVhcMgJF1VxS",
        "outputId": "8ce8283a-3804-4fa7-df01-73990851353d"
      },
      "source": [
        "x = 7\r\n",
        "if x==7:\r\n",
        "  print(\"is 7\")"
      ],
      "execution_count": null,
      "outputs": [
        {
          "output_type": "stream",
          "text": [
            "is 7\n"
          ],
          "name": "stdout"
        }
      ]
    },
    {
      "cell_type": "code",
      "metadata": {
        "colab": {
          "base_uri": "https://localhost:8080/"
        },
        "id": "ij7sZEHg1SbV",
        "outputId": "ce8d3825-0c4a-4316-cac4-ce7ecfcdd786"
      },
      "source": [
        "x = 0\r\n",
        "if x<2:\r\n",
        "  print('very small p2b')\r\n",
        "elif x<10:\r\n",
        "  print(\"small p2b\")\r\n",
        "else:\r\n",
        "  print(\"not small p2b\")\r\n",
        "print(\"all done p2b\")"
      ],
      "execution_count": null,
      "outputs": [
        {
          "output_type": "stream",
          "text": [
            "very small p2b\n",
            "all done p2b\n"
          ],
          "name": "stdout"
        }
      ]
    },
    {
      "cell_type": "code",
      "metadata": {
        "id": "4BzHyGIUxazR"
      },
      "source": [
        "astr =\"perfect plan B\"\r\n",
        "istr =0\r\n",
        "try:\r\n",
        "  istr =int(astr)\r\n",
        "except:\r\n",
        "  istr = -1\r\n",
        "  "
      ],
      "execution_count": null,
      "outputs": []
    },
    {
      "cell_type": "markdown",
      "metadata": {
        "id": "rI0l_re66K9Q"
      },
      "source": [
        "Assignment\r\n"
      ]
    },
    {
      "cell_type": "code",
      "metadata": {
        "id": "7U_aog4E6NTp",
        "colab": {
          "base_uri": "https://localhost:8080/"
        },
        "outputId": "094e167a-2a9c-45a1-822f-591e82edbffc"
      },
      "source": [
        "days = input(\"enter the days \")\r\n",
        "rate = input(\"enter rate\")\r\n",
        "try:\r\n",
        "  val = float(days)\r\n",
        "  pig = float(rate)\r\n",
        "  totalrate = val*pig\r\n",
        "  print(\"total rate\",totalrate)\r\n",
        "except:\r\n",
        "  print(\"please enter numeric number\")\r\n",
        "\r\n",
        "\r\n",
        "\r\n",
        " "
      ],
      "execution_count": null,
      "outputs": [
        {
          "output_type": "stream",
          "text": [
            "enter the days forty\n",
            "enter rate220\n",
            "please enter numeric number\n"
          ],
          "name": "stdout"
        }
      ]
    }
  ]
}