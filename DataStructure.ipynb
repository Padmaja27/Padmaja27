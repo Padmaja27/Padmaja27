{
  "nbformat": 4,
  "nbformat_minor": 0,
  "metadata": {
    "colab": {
      "name": "DataStructure.ipynb",
      "provenance": [],
      "authorship_tag": "ABX9TyPakBvJbbIz9yofbjtUGWU8",
      "include_colab_link": true
    },
    "kernelspec": {
      "name": "python3",
      "display_name": "Python 3"
    }
  },
  "cells": [
    {
      "cell_type": "markdown",
      "metadata": {
        "id": "view-in-github",
        "colab_type": "text"
      },
      "source": [
        "<a href=\"https://colab.research.google.com/github/Padmaja27/Padmaja27/blob/main/DataStructure.ipynb\" target=\"_parent\"><img src=\"https://colab.research.google.com/assets/colab-badge.svg\" alt=\"Open In Colab\"/></a>"
      ]
    },
    {
      "cell_type": "markdown",
      "metadata": {
        "id": "dODlC2XAxGBm"
      },
      "source": [
        "Data Structures \r\n",
        "Strings"
      ]
    },
    {
      "cell_type": "code",
      "metadata": {
        "colab": {
          "base_uri": "https://localhost:8080/"
        },
        "id": "5oIwtw2Pwmck",
        "outputId": "847e88b2-65df-4ad9-fab7-7737f38e36d2"
      },
      "source": [
        "#Length of the String\r\n",
        "s = \"padmaja is doing python program\"\r\n",
        "print(len(s))"
      ],
      "execution_count": null,
      "outputs": [
        {
          "output_type": "stream",
          "text": [
            "31\n"
          ],
          "name": "stdout"
        }
      ]
    },
    {
      "cell_type": "code",
      "metadata": {
        "colab": {
          "base_uri": "https://localhost:8080/"
        },
        "id": "uUagm7fkzao3",
        "outputId": "f75ea239-f634-4729-f19e-6940d8564229"
      },
      "source": [
        "s = \"hello\"\r\n",
        "for el in s:\r\n",
        "  print(el)# elements on stings\r\n",
        "print(\"\\n\")"
      ],
      "execution_count": null,
      "outputs": [
        {
          "output_type": "stream",
          "text": [
            "h\n",
            "e\n",
            "l\n",
            "l\n",
            "o\n",
            "\n",
            "\n"
          ],
          "name": "stdout"
        }
      ]
    },
    {
      "cell_type": "code",
      "metadata": {
        "id": "zPHRtCqv0JYt",
        "colab": {
          "base_uri": "https://localhost:8080/"
        },
        "outputId": "77744759-02ee-48d7-f3ce-7e19adea796c"
      },
      "source": [
        "# to check whether  letter in the string\r\n",
        "s = \"banana\"\r\n",
        "count = 0\r\n",
        "for el in s:\r\n",
        "   if el == 'n':\r\n",
        "     count+=1\r\n",
        "print(count)\r\n",
        "\r\n"
      ],
      "execution_count": null,
      "outputs": [
        {
          "output_type": "stream",
          "text": [
            "2\n"
          ],
          "name": "stdout"
        }
      ]
    },
    {
      "cell_type": "code",
      "metadata": {
        "colab": {
          "base_uri": "https://localhost:8080/"
        },
        "id": "BbhMy-JbmPGq",
        "outputId": "1c3628fa-a0f4-4664-f1cc-f3e8b1635f76"
      },
      "source": [
        "s= 'hello'\r\n",
        "for el in range(0,len(s)):\r\n",
        "  print(s[el])"
      ],
      "execution_count": null,
      "outputs": [
        {
          "output_type": "stream",
          "text": [
            "h\n",
            "e\n",
            "l\n",
            "l\n",
            "o\n"
          ],
          "name": "stdout"
        }
      ]
    },
    {
      "cell_type": "code",
      "metadata": {
        "id": "Qkfci80YtNLv"
      },
      "source": [
        "String Slicing "
      ],
      "execution_count": null,
      "outputs": []
    },
    {
      "cell_type": "code",
      "metadata": {
        "colab": {
          "base_uri": "https://localhost:8080/"
        },
        "id": "qEqtLuyNtQUC",
        "outputId": "8392db09-4f41-4ef6-9fa3-97e9b48b304d"
      },
      "source": [
        "#to print the letters in string\r\n",
        "s='helloWorld'\r\n",
        "first_four = s[:8]\r\n",
        "print(first_four)"
      ],
      "execution_count": null,
      "outputs": [
        {
          "output_type": "stream",
          "text": [
            "helloWor\n"
          ],
          "name": "stdout"
        }
      ]
    },
    {
      "cell_type": "code",
      "metadata": {
        "colab": {
          "base_uri": "https://localhost:8080/"
        },
        "id": "vL2a4Klvt63q",
        "outputId": "6defdf5b-14c1-41f8-fc89-85792ad4bf64"
      },
      "source": [
        "#to print in between letters\r\n",
        "s='padmaja'\r\n",
        "bet=s[2:3]\r\n",
        "print(bet)"
      ],
      "execution_count": null,
      "outputs": [
        {
          "output_type": "stream",
          "text": [
            "d\n"
          ],
          "name": "stdout"
        }
      ]
    },
    {
      "cell_type": "code",
      "metadata": {
        "colab": {
          "base_uri": "https://localhost:8080/"
        },
        "id": "eaISI7IluiXQ",
        "outputId": "f7ceebc5-8d3e-4fe7-d582-8971087fb6c8"
      },
      "source": [
        "# to reverse the String\r\n",
        "s='padmaja'\r\n",
        "rev=s[::-1]\r\n",
        "print(rev)"
      ],
      "execution_count": null,
      "outputs": [
        {
          "output_type": "stream",
          "text": [
            "ajamdap\n"
          ],
          "name": "stdout"
        }
      ]
    },
    {
      "cell_type": "markdown",
      "metadata": {
        "id": "3Ewy-wow8hk6"
      },
      "source": [
        "Lower case or upper case"
      ]
    },
    {
      "cell_type": "code",
      "metadata": {
        "colab": {
          "base_uri": "https://localhost:8080/"
        },
        "id": "vkjumhmX8oJT",
        "outputId": "dd96c904-ca85-4c03-f8ff-dc6ff2d65e11"
      },
      "source": [
        "s = \"Perfect plan B\"\r\n",
        "print(s.islower())\r\n",
        "print(s.isupper())"
      ],
      "execution_count": null,
      "outputs": [
        {
          "output_type": "stream",
          "text": [
            "False\n",
            "False\n"
          ],
          "name": "stdout"
        }
      ]
    },
    {
      "cell_type": "code",
      "metadata": {
        "colab": {
          "base_uri": "https://localhost:8080/"
        },
        "id": "h9PA4cRH8_pj",
        "outputId": "f266dfde-e89b-426d-8fb0-7b300f53da94"
      },
      "source": [
        "S = \"PADMAJA\"\r\n",
        "s = \"babitha\"\r\n",
        "print(S.lower())\r\n",
        "print(s.upper())"
      ],
      "execution_count": null,
      "outputs": [
        {
          "output_type": "stream",
          "text": [
            "padmaja\n",
            "BABITHA\n"
          ],
          "name": "stdout"
        }
      ]
    },
    {
      "cell_type": "markdown",
      "metadata": {
        "id": "TGL_ndFp-Ura"
      },
      "source": [
        "Striping whitespaces"
      ]
    },
    {
      "cell_type": "code",
      "metadata": {
        "colab": {
          "base_uri": "https://localhost:8080/"
        },
        "id": "HE7GARuF-Yc4",
        "outputId": "ed205af5-34de-4528-8c6f-8e1cdaf46209"
      },
      "source": [
        "s= '    padmaja'\r\n",
        "print(s.rstrip())#removing space in string\r\n",
        "print(s.lstrip())\r\n",
        "T = '   buffalo   '\r\n",
        "print(T.strip())"
      ],
      "execution_count": null,
      "outputs": [
        {
          "output_type": "stream",
          "text": [
            "    padmaja\n",
            "padmaja\n",
            "buffalo\n"
          ],
          "name": "stdout"
        }
      ]
    },
    {
      "cell_type": "markdown",
      "metadata": {
        "id": "_nEejpMVBJVW"
      },
      "source": [
        "Passing and Extracting the String"
      ]
    },
    {
      "cell_type": "code",
      "metadata": {
        "colab": {
          "base_uri": "https://localhost:8080/"
        },
        "id": "sXQwPtky8g19",
        "outputId": "318defa0-d7ac-45f6-bf6f-9764d045bb14"
      },
      "source": [
        "data = 'From padmaja.arusam@gmail.com 27 july 2020 '\r\n",
        "atpos = data.find('p')\r\n",
        "print(atpos)\r\n",
        "spos = data.find('.')\r\n",
        "print(spos)\r\n",
        "s = data[atpos:spos]\r\n",
        "print(s)\r\n",
        "middledot = data.find(' ',atpos)\r\n",
        "print(middledot)\r\n",
        "lastdot = data.find(' ',middledot+1)\r\n",
        "print(lastdot)\r\n",
        "j = data[:-1]\r\n",
        "print(j)"
      ],
      "execution_count": null,
      "outputs": [
        {
          "output_type": "stream",
          "text": [
            "5\n",
            "12\n",
            "padmaja\n",
            "29\n",
            "32\n",
            "From padmaja.arusam@gmail.com 27 july 2020\n"
          ],
          "name": "stdout"
        }
      ]
    },
    {
      "cell_type": "markdown",
      "metadata": {
        "id": "MnV7FOgtE4IF"
      },
      "source": [
        "Assignment on strings"
      ]
    },
    {
      "cell_type": "code",
      "metadata": {
        "colab": {
          "base_uri": "https://localhost:8080/"
        },
        "id": "5Nhh6J0sE8Mt",
        "outputId": "c3d77597-552c-4797-cff9-96b5dd0e55b9"
      },
      "source": [
        "str1 = \"perfect\"\r\n",
        "dtr1= \"planB!\"\r\n",
        "bob = str1+dtr1\r\n",
        "print(bob)"
      ],
      "execution_count": null,
      "outputs": [
        {
          "output_type": "stream",
          "text": [
            "perfectplanB!\n"
          ],
          "name": "stdout"
        }
      ]
    },
    {
      "cell_type": "code",
      "metadata": {
        "colab": {
          "base_uri": "https://localhost:8080/"
        },
        "id": "cGrq6wxLFbde",
        "outputId": "5b246fa5-7a4f-4bb9-85fc-0f2f3c6bd5c4"
      },
      "source": [
        "x= '51'\r\n",
        "y =int(x)+2\r\n",
        "print(y)"
      ],
      "execution_count": null,
      "outputs": [
        {
          "output_type": "stream",
          "text": [
            "53\n"
          ],
          "name": "stdout"
        }
      ]
    },
    {
      "cell_type": "code",
      "metadata": {
        "colab": {
          "base_uri": "https://localhost:8080/"
        },
        "id": "0tLDsBbdFqZY",
        "outputId": "32071be7-be7d-4bfa-ffe7-20e486bfdd0d"
      },
      "source": [
        "for let in 'perfectplanb':\r\n",
        "  print(let)"
      ],
      "execution_count": null,
      "outputs": [
        {
          "output_type": "stream",
          "text": [
            "p\n",
            "e\n",
            "r\n",
            "f\n",
            "e\n",
            "c\n",
            "t\n",
            "p\n",
            "l\n",
            "a\n",
            "n\n",
            "b\n"
          ],
          "name": "stdout"
        }
      ]
    },
    {
      "cell_type": "code",
      "metadata": {
        "colab": {
          "base_uri": "https://localhost:8080/"
        },
        "id": "_tnlybj5F6qT",
        "outputId": "648b49fb-60b2-426a-9a4e-9e7a98e991cb"
      },
      "source": [
        "print(len('per')*7)"
      ],
      "execution_count": null,
      "outputs": [
        {
          "output_type": "stream",
          "text": [
            "21\n"
          ],
          "name": "stdout"
        }
      ]
    },
    {
      "cell_type": "code",
      "metadata": {
        "colab": {
          "base_uri": "https://localhost:8080/"
        },
        "id": "0iJ8sMHqGGEf",
        "outputId": "a4458969-c999-4101-d0e1-b9b1fa1a135f"
      },
      "source": [
        "data = 'from jyothi.perfectplanb@uct.ac.za sat jan 5 '\r\n",
        "pos = data.find('.')\r\n",
        "print(data[pos:pos+3])"
      ],
      "execution_count": null,
      "outputs": [
        {
          "output_type": "stream",
          "text": [
            ".pe\n"
          ],
          "name": "stdout"
        }
      ]
    },
    {
      "cell_type": "markdown",
      "metadata": {
        "id": "HOJ3PRXeG1E4"
      },
      "source": [
        "Take the following Python code that stores a string:`str = 'Perfect-Plan-B:0.7541' Use find and string slicing to extract the portion of the string after the colon character and then use the float function to convert the extracted string into a floating point number"
      ]
    },
    {
      "cell_type": "code",
      "metadata": {
        "colab": {
          "base_uri": "https://localhost:8080/"
        },
        "id": "IhHpxNPRG0iq",
        "outputId": "93cc382a-c426-4821-9819-93b8fb3f3f55"
      },
      "source": [
        "str = 'Perfect-Plan-B:0.7541 '\r\n",
        "atpos = str.find(':')\r\n",
        "p = str[atpos+1:-1]\r\n",
        "print(p)\r\n",
        "f = float(p)\r\n",
        "print(type(f))\r\n"
      ],
      "execution_count": null,
      "outputs": [
        {
          "output_type": "stream",
          "text": [
            "0.7541\n",
            "<class 'float'>\n"
          ],
          "name": "stdout"
        }
      ]
    },
    {
      "cell_type": "code",
      "metadata": {
        "colab": {
          "base_uri": "https://localhost:8080/"
        },
        "id": "IGxgg8HvIbdg",
        "outputId": "7db64037-3ab4-4c79-9a4e-7ce3bad16813"
      },
      "source": [
        "string = 'Perfect-Plan-B:0.7541'\r\n",
        "position = string.find(':')\r\n",
        "number = string[(position+1):]\r\n",
        "floating_number = float(number)\r\n",
        "print(floating_number)"
      ],
      "execution_count": null,
      "outputs": [
        {
          "output_type": "stream",
          "text": [
            "0.7541\n"
          ],
          "name": "stdout"
        }
      ]
    }
  ]
}